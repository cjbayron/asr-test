{
 "cells": [
  {
   "cell_type": "code",
   "execution_count": 8,
   "metadata": {},
   "outputs": [],
   "source": [
    "import time\n",
    "import os\n",
    "import soundfile as sf\n",
    "import sounddevice as sd\n",
    "from scipy.io import wavfile\n",
    "import pandas as pd"
   ]
  },
  {
   "cell_type": "markdown",
   "metadata": {},
   "source": [
    "### Record/play functions"
   ]
  },
  {
   "cell_type": "code",
   "execution_count": 9,
   "metadata": {},
   "outputs": [],
   "source": [
    "# record audio\n",
    "FS = 44100  # default sample rate\n",
    "REC_S = 3  # defaut duration of recording\n",
    "\n",
    "def record(fn='output.wav', duration=REC_S, fs=FS):\n",
    "    recording = sd.rec(int(duration * fs), samplerate=fs, channels=1)\n",
    "    print('Recording', end='')\n",
    "    for i in range(10):\n",
    "        time.sleep(duration/8.0)\n",
    "        print('.', end='')\n",
    "    \n",
    "    sd.wait()  # Wait until recording is finished\n",
    "    print(' Done')\n",
    "    wavfile.write(fn, fs, recording)  # Save as WAV file \n",
    "    \n",
    "def play(fn):\n",
    "    # Extract data and sampling rate from file\n",
    "    data, fs = sf.read(fn, dtype='float32')  \n",
    "    sd.play(data, fs)\n",
    "    status = sd.wait()  # Wait until file is done playing"
   ]
  },
  {
   "cell_type": "markdown",
   "metadata": {},
   "source": [
    "### wav2vec"
   ]
  },
  {
   "cell_type": "markdown",
   "metadata": {},
   "source": [
    "Tested on:\n",
    "- **transformers==4.4.0.dev** (installed via `pip install -e '.[dev]'` on latest version of [repo](https://github.com/huggingface/transformers))\n",
    "- **torch==1.7.1**"
   ]
  },
  {
   "cell_type": "code",
   "execution_count": 10,
   "metadata": {},
   "outputs": [
    {
     "name": "stdout",
     "output_type": "stream",
     "text": [
      "1.7.1\n",
      "4.4.0.dev0\n"
     ]
    }
   ],
   "source": [
    "import transformers\n",
    "import torch\n",
    "\n",
    "print(torch.__version__)\n",
    "print(transformers.__version__)"
   ]
  },
  {
   "cell_type": "code",
   "execution_count": 11,
   "metadata": {},
   "outputs": [],
   "source": [
    "import torch\n",
    "from transformers import Wav2Vec2ForMaskedLM, Wav2Vec2Tokenizer\n",
    "\n",
    "# load pretrained model\n",
    "tokenizer = Wav2Vec2Tokenizer.from_pretrained(\"facebook/wav2vec2-base-960h\")\n",
    "model = Wav2Vec2ForMaskedLM.from_pretrained(\"facebook/wav2vec2-base-960h\")"
   ]
  },
  {
   "cell_type": "markdown",
   "metadata": {},
   "source": [
    "We'll test inference on short audio (1-10s) using LJ Speech Dataset (download [here](https://keithito.com/LJ-Speech-Dataset/), read also: [TensorFlow LJSpeech](https://www.tensorflow.org/datasets/catalog/ljspeech)).\n",
    "\n",
    "We may also choose to test via pre-recorded audio or own recording using `record()`. Note that `wav2vec2` model expects **16 kHz, single-channel** audio."
   ]
  },
  {
   "cell_type": "markdown",
   "metadata": {},
   "source": [
    "#### Get sample from LJ Speech"
   ]
  },
  {
   "cell_type": "code",
   "execution_count": 12,
   "metadata": {},
   "outputs": [
    {
     "name": "stdout",
     "output_type": "stream",
     "text": [
      "LJ038-0284 Although the Commission recognizes that neither expert was able to state\n"
     ]
    }
   ],
   "source": [
    "LJ_DIR = 'LJSpeech-1.1'\n",
    "if not os.path.exists(LJ_DIR):\n",
    "    raise Exception('Download LJ Speech first.')\n",
    "    \n",
    "ds = pd.read_csv(os.path.join(LJ_DIR, 'metadata.csv'), sep='|', names=['id', 'text', 'text_normalized'])\n",
    "#print('Text range: {:.0f}-{:.0f}'.format(ds.text_normalized.str.len().min(),ds.text_normalized.str.len().max()))\n",
    "\n",
    "MAX_LEN = 75\n",
    "ds_short = ds[ds.text_normalized.str.len() < MAX_LEN]\n",
    "\n",
    "samp = ds_short.sample().iloc[0]\n",
    "print(samp.id, samp.text_normalized)"
   ]
  },
  {
   "cell_type": "code",
   "execution_count": 13,
   "metadata": {},
   "outputs": [],
   "source": [
    "# LJ Speech is not 16kHz, so we re-sample\n",
    "from scipy.signal import resample\n",
    "\n",
    "target_fs = 16000\n",
    "test_file = 'output.wav'\n",
    "\n",
    "raw_file = os.path.join(LJ_DIR, 'wavs', samp.id+'.wav')\n",
    "x, orig_fs = sf.read(raw_file)\n",
    "x = resample(x, num=int(len(x)*target_fs/orig_fs))\n",
    "wavfile.write(test_file, target_fs, x)  # Save as WAV file \n",
    "\n",
    "play(test_file)"
   ]
  },
  {
   "cell_type": "markdown",
   "metadata": {},
   "source": [
    "#### Record own audio / Pre-recorded"
   ]
  },
  {
   "cell_type": "code",
   "execution_count": 20,
   "metadata": {},
   "outputs": [
    {
     "name": "stdout",
     "output_type": "stream",
     "text": [
      "Recording.......... Done\n"
     ]
    }
   ],
   "source": [
    "# set name appropriately and comment-out record() if gonna use pre-recorded\n",
    "test_file = 'output.wav'\n",
    "record(fn=test_file, fs=16000, duration=3)\n",
    "\n",
    "play(test_file)"
   ]
  },
  {
   "cell_type": "markdown",
   "metadata": {},
   "source": [
    "#### Inference"
   ]
  },
  {
   "cell_type": "code",
   "execution_count": 21,
   "metadata": {},
   "outputs": [
    {
     "data": {
      "text/plain": [
       "'ALTHOUGH THE COMMISSION RECOGNIZES THAT NEITHER EXPERT WAS ABLE TO STATE'"
      ]
     },
     "execution_count": 21,
     "metadata": {},
     "output_type": "execute_result"
    }
   ],
   "source": [
    "# load audio\n",
    "audio_input, _ = sf.read(test_file) # expected 16kHz, single-channel\n",
    "\n",
    "def transcribe(audio):\n",
    "    # transcribe\n",
    "    input_values = tokenizer(audio, return_tensors=\"pt\").input_values\n",
    "    logits = model(input_values).logits\n",
    "    predicted_ids = torch.argmax(logits, dim=-1)\n",
    "    transcription = tokenizer.batch_decode(predicted_ids)[0]\n",
    "    \n",
    "    return transcription\n",
    "\n",
    "transcribe(audio_input)"
   ]
  },
  {
   "cell_type": "code",
   "execution_count": 29,
   "metadata": {},
   "outputs": [
    {
     "ename": "NameError",
     "evalue": "name 'audio_arr' is not defined",
     "output_type": "error",
     "traceback": [
      "\u001b[0;31m---------------------------------------------------------------------------\u001b[0m",
      "\u001b[0;31mNameError\u001b[0m                                 Traceback (most recent call last)",
      "\u001b[0;32m<ipython-input-29-5aca90744f46>\u001b[0m in \u001b[0;36m<module>\u001b[0;34m\u001b[0m\n\u001b[0;32m----> 1\u001b[0;31m \u001b[0maudio_arr\u001b[0m\u001b[0;34m.\u001b[0m\u001b[0mdtype\u001b[0m\u001b[0;34m\u001b[0m\u001b[0;34m\u001b[0m\u001b[0m\n\u001b[0m",
      "\u001b[0;31mNameError\u001b[0m: name 'audio_arr' is not defined"
     ]
    }
   ],
   "source": [
    "audio"
   ]
  },
  {
   "cell_type": "markdown",
   "metadata": {},
   "source": [
    "#### Streaming"
   ]
  },
  {
   "cell_type": "code",
   "execution_count": 3,
   "metadata": {},
   "outputs": [
    {
     "name": "stdout",
     "output_type": "stream",
     "text": [
      "Available audio input devices:\n",
      "12 pulse\n",
      "14 default\n",
      "Please type input device ID:\n",
      "14\n"
     ]
    }
   ],
   "source": [
    "import time\n",
    "import pyaudio as pa\n",
    "from scipy.io import wavfile\n",
    "import numpy as np\n",
    "\n",
    "p = pa.PyAudio()\n",
    "print('Available audio input devices:')\n",
    "for i in range(p.get_device_count()):\n",
    "    dev = p.get_device_info_by_index(i)\n",
    "    if dev.get('maxInputChannels'):\n",
    "        print(i, dev.get('name'))\n",
    "print('Please type input device ID:')\n",
    "dev_idx = int(input())"
   ]
  },
  {
   "cell_type": "code",
   "execution_count": 4,
   "metadata": {},
   "outputs": [],
   "source": [
    "CHANNELS = 1\n",
    "RATE = 16000\n",
    "DURATION = 2.0\n",
    "CHUNK_SIZE = int(DURATION*RATE)"
   ]
  },
  {
   "cell_type": "code",
   "execution_count": 5,
   "metadata": {},
   "outputs": [],
   "source": [
    "def callback(in_data, frame_count, time_info, status):\n",
    "    # in_data: bytes\n",
    "    audio_arr = np.frombuffer(in_data, dtype=float)\n",
    "    \n",
    "    #print(transcribe(audio_arr))\n",
    "    wavfile.write('test.wav', RATE, audio_arr)\n",
    "    return (in_data, pa.paContinue)"
   ]
  },
  {
   "cell_type": "code",
   "execution_count": 6,
   "metadata": {},
   "outputs": [],
   "source": [
    "stream = p.open(format=pa.paInt16,\n",
    "                channels=CHANNELS,\n",
    "                rate=RATE,\n",
    "                input=True,\n",
    "                input_device_index=dev_idx,\n",
    "                stream_callback=callback,\n",
    "                frames_per_buffer=CHUNK_SIZE)\n",
    "\n",
    "stream.start_stream()\n",
    "\n",
    "# while stream.is_active():\n",
    "#     time.sleep(0.1)\n",
    "\n",
    "for i in range(10):\n",
    "    time.sleep(DURATION/8.0)\n",
    "    #print('.', end='')\n",
    "\n",
    "\n",
    "stream.stop_stream()\n",
    "stream.close()\n",
    "\n",
    "p.terminate()"
   ]
  },
  {
   "cell_type": "code",
   "execution_count": null,
   "metadata": {},
   "outputs": [],
   "source": []
  }
 ],
 "metadata": {
  "kernelspec": {
   "display_name": "Python 3",
   "language": "python",
   "name": "python3"
  },
  "language_info": {
   "codemirror_mode": {
    "name": "ipython",
    "version": 3
   },
   "file_extension": ".py",
   "mimetype": "text/x-python",
   "name": "python",
   "nbconvert_exporter": "python",
   "pygments_lexer": "ipython3",
   "version": "3.6.6"
  }
 },
 "nbformat": 4,
 "nbformat_minor": 2
}
