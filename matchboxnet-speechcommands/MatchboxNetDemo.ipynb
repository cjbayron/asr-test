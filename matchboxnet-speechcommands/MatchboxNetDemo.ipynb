{
 "cells": [
  {
   "cell_type": "code",
   "execution_count": null,
   "metadata": {
    "scrolled": false
   },
   "outputs": [],
   "source": [
    "\"\"\"\n",
    "Please run notebook locally (if you have all the dependencies and a GPU). \n",
    "Technically you can run this notebook on Google Colab but you need to set up microphone for Colab.\n",
    " \n",
    "Instructions for setting up Colab are as follows:\n",
    "1. Open a new Python 3 notebook.\n",
    "2. Import this notebook from GitHub (File -> Upload Notebook -> \"GITHUB\" tab -> copy/paste GitHub URL)\n",
    "3. Connect to an instance with a GPU (Runtime -> Change runtime type -> select \"GPU\" for hardware accelerator)\n",
    "4. Run this cell to set up dependencies.\n",
    "5. Set up microphone for Colab\n",
    "\"\"\"\n",
    "# If you're using Google Colab and not running locally, run this cell.\n",
    "\n",
    "## Install dependencies\n",
    "!pip install wget\n",
    "!apt-get install sox libsndfile1 ffmpeg portaudio19-dev\n",
    "!pip install unidecode\n",
    "!pip install pyaudio\n",
    "\n",
    "# ## Install NeMo\n",
    "BRANCH = 'r1.0.0rc1'\n",
    "!python -m pip install git+https://github.com/NVIDIA/NeMo.git@$BRANCH#egg=nemo_toolkit[asr]"
   ]
  },
  {
   "cell_type": "code",
   "execution_count": 15,
   "metadata": {},
   "outputs": [],
   "source": [
    "## Install TorchAudio\n",
    "!pip install torchaudio>=0.6.0 -f https://download.pytorch.org/whl/torch_stable.html"
   ]
  },
  {
   "cell_type": "markdown",
   "metadata": {},
   "source": [
    "\n",
    "This notebook demonstrates offline and online (from a microphone's stream in NeMo) speech commands recognition \n",
    "\n",
    "It is **not a recommended** way to do inference in production workflows. If you are interested in \n",
    "production-level inference using NeMo ASR models, please sign-up to Jarvis early access program: https://developer.nvidia.com/nvidia-jarvis"
   ]
  },
  {
   "cell_type": "markdown",
   "metadata": {},
   "source": [
    "The notebook requires PyAudio library to get a signal from an audio device.\n",
    "For Ubuntu, please run the following commands to install it:\n",
    "```\n",
    "sudo apt-get install -y portaudio19-dev\n",
    "pip install pyaudio\n",
    "```"
   ]
  },
  {
   "cell_type": "markdown",
   "metadata": {},
   "source": [
    "This notebook requires the `torchaudio` library to be installed for MatchboxNet. Please follow the instructions available at the [torchaudio Github page](https://github.com/pytorch/audio#installation) to install the appropriate version of torchaudio.\n",
    "\n",
    "If you would like to install the latest version, please run the following command to install it:\n",
    "\n",
    "```\n",
    "conda install -c pytorch torchaudio\n",
    "```"
   ]
  },
  {
   "cell_type": "code",
   "execution_count": 1,
   "metadata": {},
   "outputs": [
    {
     "name": "stderr",
     "output_type": "stream",
     "text": [
      "[NeMo W 2021-03-25 02:57:25 experimental:28] Module <class 'nemo.collections.asr.models.clustering_diarizer.ClusteringDiarizer'> is experimental, not ready for production and is not fully supported. Use at your own risk.\n",
      "[NeMo W 2021-03-25 02:57:26 experimental:28] Module <class 'nemo.collections.asr.data.audio_to_text_dali.AudioToCharDALIDataset'> is experimental, not ready for production and is not fully supported. Use at your own risk.\n",
      "################################################################################\n",
      "### WARNING, path does not exist: KALDI_ROOT=/mnt/matylda5/iveselyk/Tools/kaldi-trunk\n",
      "###          (please add 'export KALDI_ROOT=<your_path>' in your $HOME/.profile)\n",
      "###          (or run as: KALDI_ROOT=<your_path> python <your_script>.py)\n",
      "################################################################################\n",
      "\n"
     ]
    }
   ],
   "source": [
    "import numpy as np\n",
    "import pyaudio as pa\n",
    "import os, time\n",
    "import librosa\n",
    "import IPython.display as ipd\n",
    "import matplotlib.pyplot as plt\n",
    "%matplotlib inline\n",
    "\n",
    "import nemo\n",
    "import nemo.collections.asr as nemo_asr"
   ]
  },
  {
   "cell_type": "code",
   "execution_count": 2,
   "metadata": {},
   "outputs": [],
   "source": [
    "# sample rate, Hz\n",
    "SAMPLE_RATE = 16000"
   ]
  },
  {
   "cell_type": "markdown",
   "metadata": {},
   "source": [
    "## Restore the model from NGC"
   ]
  },
  {
   "cell_type": "code",
   "execution_count": 3,
   "metadata": {},
   "outputs": [
    {
     "name": "stdout",
     "output_type": "stream",
     "text": [
      "MatchboxNet-3x1x64-v1: MatchboxNet model trained on Google Speech Commands dataset (v1, 30 classes) which obtains 97.32% accuracy on test set.\n",
      "MatchboxNet-3x2x64-v1: MatchboxNet model trained on Google Speech Commands dataset (v1, 30 classes) which obtains 97.68% accuracy on test set.\n",
      "MatchboxNet-3x1x64-v2: MatchboxNet model trained on Google Speech Commands dataset (v2, 35 classes) which obtains 97.12% accuracy on test set.\n",
      "MatchboxNet-3x1x64-v2: MatchboxNet model trained on Google Speech Commands dataset (v2, 30 classes) which obtains 97.29% accuracy on test set.\n",
      "MatchboxNet-3x1x64-v2-subset-task: MatchboxNet model trained on Google Speech Commands dataset (v2, 10+2 classes) which obtains 98.2% accuracy on test set.\n",
      "MatchboxNet-3x2x64-v2-subset-task: MatchboxNet model trained on Google Speech Commands dataset (v2, 10+2 classes) which obtains 98.4% accuracy on test set.\n",
      "MatchboxNet-VAD-3x2: Voice Activity Detection MatchboxNet model trained on google speech command (v2) and freesound background data, which obtains 0.992 accuracy on testset from same source and 0.852 TPR for FPR=0.315 on testset (ALL) of AVA movie data\n"
     ]
    }
   ],
   "source": [
    "for model in nemo_asr.models.EncDecClassificationModel.list_available_models():\n",
    "    print(f'{model.pretrained_model_name}: {model.description}')"
   ]
  },
  {
   "cell_type": "code",
   "execution_count": 3,
   "metadata": {
    "scrolled": false
   },
   "outputs": [
    {
     "name": "stdout",
     "output_type": "stream",
     "text": [
      "[NeMo I 2021-03-25 02:57:27 cloud:56] Found existing object /home/cjbayron/.cache/torch/NeMo/NeMo_1.0.0rc2/MatchboxNet-3x1x64-v2/92ca210d37c6546a81285e054524be15/MatchboxNet-3x1x64-v2.nemo.\n",
      "[NeMo I 2021-03-25 02:57:27 cloud:62] Re-using file from: /home/cjbayron/.cache/torch/NeMo/NeMo_1.0.0rc2/MatchboxNet-3x1x64-v2/92ca210d37c6546a81285e054524be15/MatchboxNet-3x1x64-v2.nemo\n",
      "[NeMo I 2021-03-25 02:57:27 common:615] Instantiating model from pre-trained checkpoint\n"
     ]
    },
    {
     "name": "stderr",
     "output_type": "stream",
     "text": [
      "[NeMo W 2021-03-25 02:57:27 modelPT:133] Please call the ModelPT.setup_training_data() method and provide a valid configuration file to setup the train data loader.\n",
      "    Train config : \n",
      "    manifest_filepath: null\n",
      "    sample_rate: 16000\n",
      "    labels:\n",
      "    - visual\n",
      "    - wow\n",
      "    - learn\n",
      "    - backward\n",
      "    - dog\n",
      "    - two\n",
      "    - left\n",
      "    - happy\n",
      "    - nine\n",
      "    - go\n",
      "    - up\n",
      "    - bed\n",
      "    - stop\n",
      "    - one\n",
      "    - zero\n",
      "    - tree\n",
      "    - seven\n",
      "    - 'on'\n",
      "    - four\n",
      "    - bird\n",
      "    - right\n",
      "    - eight\n",
      "    - 'no'\n",
      "    - six\n",
      "    - forward\n",
      "    - house\n",
      "    - marvin\n",
      "    - sheila\n",
      "    - five\n",
      "    - 'off'\n",
      "    - three\n",
      "    - down\n",
      "    - cat\n",
      "    - follow\n",
      "    - 'yes'\n",
      "    batch_size: 128\n",
      "    shuffle: true\n",
      "    augmentor:\n",
      "      shift:\n",
      "        prob: 1.0\n",
      "        min_shift_ms: -5.0\n",
      "        max_shift_ms: 5.0\n",
      "      white_noise:\n",
      "        prob: 1.0\n",
      "        min_level: -90\n",
      "        max_level: -46\n",
      "    \n",
      "[NeMo W 2021-03-25 02:57:27 modelPT:140] Please call the ModelPT.setup_validation_data() or ModelPT.setup_multiple_validation_data() method and provide a valid configuration file to setup the validation data loader(s). \n",
      "    Validation config : \n",
      "    manifest_filepath: null\n",
      "    sample_rate: 16000\n",
      "    labels:\n",
      "    - visual\n",
      "    - wow\n",
      "    - learn\n",
      "    - backward\n",
      "    - dog\n",
      "    - two\n",
      "    - left\n",
      "    - happy\n",
      "    - nine\n",
      "    - go\n",
      "    - up\n",
      "    - bed\n",
      "    - stop\n",
      "    - one\n",
      "    - zero\n",
      "    - tree\n",
      "    - seven\n",
      "    - 'on'\n",
      "    - four\n",
      "    - bird\n",
      "    - right\n",
      "    - eight\n",
      "    - 'no'\n",
      "    - six\n",
      "    - forward\n",
      "    - house\n",
      "    - marvin\n",
      "    - sheila\n",
      "    - five\n",
      "    - 'off'\n",
      "    - three\n",
      "    - down\n",
      "    - cat\n",
      "    - follow\n",
      "    - 'yes'\n",
      "    batch_size: 128\n",
      "    shuffle: false\n",
      "    val_loss_idx: 0\n",
      "    \n",
      "[NeMo W 2021-03-25 02:57:27 modelPT:147] Please call the ModelPT.setup_test_data() or ModelPT.setup_multiple_test_data() method and provide a valid configuration file to setup the test data loader(s).\n",
      "    Test config : \n",
      "    manifest_filepath:\n",
      "    - /home/smajumdar/PycharmProjects/nemo-eval/nemo_eval/speech_commands/v2_validation_manifest.json\n",
      "    - /home/smajumdar/PycharmProjects/nemo-eval/nemo_eval/speech_commands/v2_test_manifest.json\n",
      "    sample_rate: 16000\n",
      "    labels:\n",
      "    - visual\n",
      "    - wow\n",
      "    - learn\n",
      "    - backward\n",
      "    - dog\n",
      "    - two\n",
      "    - left\n",
      "    - happy\n",
      "    - nine\n",
      "    - go\n",
      "    - up\n",
      "    - bed\n",
      "    - stop\n",
      "    - one\n",
      "    - zero\n",
      "    - tree\n",
      "    - seven\n",
      "    - 'on'\n",
      "    - four\n",
      "    - bird\n",
      "    - right\n",
      "    - eight\n",
      "    - 'no'\n",
      "    - six\n",
      "    - forward\n",
      "    - house\n",
      "    - marvin\n",
      "    - sheila\n",
      "    - five\n",
      "    - 'off'\n",
      "    - three\n",
      "    - down\n",
      "    - cat\n",
      "    - follow\n",
      "    - 'yes'\n",
      "    batch_size: 128\n",
      "    shuffle: false\n",
      "    test_loss_idx: 0\n",
      "    \n"
     ]
    },
    {
     "name": "stdout",
     "output_type": "stream",
     "text": [
      "[NeMo I 2021-03-25 02:57:28 modelPT:376] Model EncDecClassificationModel was successfully restored from /home/cjbayron/.cache/torch/NeMo/NeMo_1.0.0rc2/MatchboxNet-3x1x64-v2/92ca210d37c6546a81285e054524be15/MatchboxNet-3x1x64-v2.nemo.\n"
     ]
    }
   ],
   "source": [
    "mbn_model = nemo_asr.models.EncDecClassificationModel.from_pretrained(\"MatchboxNet-3x1x64-v2\")"
   ]
  },
  {
   "cell_type": "code",
   "execution_count": 7,
   "metadata": {},
   "outputs": [
    {
     "name": "stdout",
     "output_type": "stream",
     "text": [
      "316K\t/home/cjbayron/.cache/torch/NeMo/NeMo_1.0.0rc2/MatchboxNet-3x1x64-v2/92ca210d37c6546a81285e054524be15/MatchboxNet-3x1x64-v2.nemo\r\n"
     ]
    }
   ],
   "source": [
    "!du -h /home/cjbayron/.cache/torch/NeMo/NeMo_1.0.0rc2/MatchboxNet-3x1x64-v2/92ca210d37c6546a81285e054524be15/*"
   ]
  },
  {
   "cell_type": "markdown",
   "metadata": {},
   "source": [
    "Since speech commands model MatchBoxNet doesn't consider non-speech scenario, \n",
    "here we use a Voice Activity Detection (VAD) model to help reduce false alarm for background noise/silence. When there is speech activity detected, the speech command inference will be activated. \n"
   ]
  },
  {
   "cell_type": "markdown",
   "metadata": {},
   "source": [
    "**Please note the VAD model is not perfect for various microphone input and you might need to finetune on your input and play with different parameters.**"
   ]
  },
  {
   "cell_type": "code",
   "execution_count": 4,
   "metadata": {
    "scrolled": true
   },
   "outputs": [
    {
     "name": "stdout",
     "output_type": "stream",
     "text": [
      "[NeMo I 2021-03-25 02:57:28 cloud:56] Found existing object /home/cjbayron/.cache/torch/NeMo/NeMo_1.0.0rc2/MatchboxNet_VAD_3x2/1375f3813383105a24acc75428ec51c4/MatchboxNet_VAD_3x2.nemo.\n",
      "[NeMo I 2021-03-25 02:57:28 cloud:62] Re-using file from: /home/cjbayron/.cache/torch/NeMo/NeMo_1.0.0rc2/MatchboxNet_VAD_3x2/1375f3813383105a24acc75428ec51c4/MatchboxNet_VAD_3x2.nemo\n",
      "[NeMo I 2021-03-25 02:57:28 common:615] Instantiating model from pre-trained checkpoint\n"
     ]
    },
    {
     "name": "stderr",
     "output_type": "stream",
     "text": [
      "[NeMo W 2021-03-25 02:57:28 modelPT:133] Please call the ModelPT.setup_training_data() method and provide a valid configuration file to setup the train data loader.\n",
      "    Train config : \n",
      "    manifest_filepath: /home/fjia/code/manifest64/balanced_background_training_manifest.json,/home/fjia/code/manifest64/balanced_speech_training_manifest.json\n",
      "    sample_rate: 16000\n",
      "    labels:\n",
      "    - background\n",
      "    - speech\n",
      "    batch_size: 128\n",
      "    num_workers: 20\n",
      "    shuffle: true\n",
      "    augmentor:\n",
      "      shift:\n",
      "        prob: 0.8\n",
      "        min_shift_ms: -5.0\n",
      "        max_shift_ms: 5.0\n",
      "      white_noise:\n",
      "        prob: 0.8\n",
      "        min_level: -90\n",
      "        max_level: -46\n",
      "    \n",
      "[NeMo W 2021-03-25 02:57:28 modelPT:140] Please call the ModelPT.setup_validation_data() or ModelPT.setup_multiple_validation_data() method and provide a valid configuration file to setup the validation data loader(s). \n",
      "    Validation config : \n",
      "    manifest_filepath: /home/fjia/code/manifest64/balanced_background_validation_manifest.json,/home/fjia/code/manifest64/balanced_speech_validation_manifest.json\n",
      "    sample_rate: 16000\n",
      "    labels:\n",
      "    - background\n",
      "    - speech\n",
      "    batch_size: 128\n",
      "    shuffle: false\n",
      "    val_loss_idx: 0\n",
      "    num_workers: 20\n",
      "    \n",
      "[NeMo W 2021-03-25 02:57:28 modelPT:147] Please call the ModelPT.setup_test_data() or ModelPT.setup_multiple_test_data() method and provide a valid configuration file to setup the test data loader(s).\n",
      "    Test config : \n",
      "    manifest_filepath: /home/fjia/code/manifest64/balanced_background_testing_manifest.json,/home/fjia/code/manifest64/balanced_speech_testing_manifest.json\n",
      "    sample_rate: 16000\n",
      "    labels:\n",
      "    - background\n",
      "    - speech\n",
      "    batch_size: 128\n",
      "    shuffle: false\n",
      "    test_loss_idx: 0\n",
      "    num_workers: 20\n",
      "    \n"
     ]
    },
    {
     "name": "stdout",
     "output_type": "stream",
     "text": [
      "[NeMo I 2021-03-25 02:57:28 modelPT:376] Model EncDecClassificationModel was successfully restored from /home/cjbayron/.cache/torch/NeMo/NeMo_1.0.0rc2/MatchboxNet_VAD_3x2/1375f3813383105a24acc75428ec51c4/MatchboxNet_VAD_3x2.nemo.\n"
     ]
    }
   ],
   "source": [
    "vad_model = nemo_asr.models.EncDecClassificationModel.from_pretrained('MatchboxNet-VAD-3x2')"
   ]
  },
  {
   "cell_type": "markdown",
   "metadata": {},
   "source": [
    "## Observing the config of the model"
   ]
  },
  {
   "cell_type": "code",
   "execution_count": 5,
   "metadata": {},
   "outputs": [],
   "source": [
    "from omegaconf import OmegaConf\n",
    "import copy"
   ]
  },
  {
   "cell_type": "code",
   "execution_count": 6,
   "metadata": {
    "scrolled": true
   },
   "outputs": [
    {
     "name": "stdout",
     "output_type": "stream",
     "text": [
      "sample_rate: 16000\n",
      "timesteps: 128\n",
      "repeat: 1\n",
      "dropout: 0.0\n",
      "kernel_size_factor: 1.0\n",
      "labels:\n",
      "- visual\n",
      "- wow\n",
      "- learn\n",
      "- backward\n",
      "- dog\n",
      "- two\n",
      "- left\n",
      "- happy\n",
      "- nine\n",
      "- go\n",
      "- up\n",
      "- bed\n",
      "- stop\n",
      "- one\n",
      "- zero\n",
      "- tree\n",
      "- seven\n",
      "- 'on'\n",
      "- four\n",
      "- bird\n",
      "- right\n",
      "- eight\n",
      "- 'no'\n",
      "- six\n",
      "- forward\n",
      "- house\n",
      "- marvin\n",
      "- sheila\n",
      "- five\n",
      "- 'off'\n",
      "- three\n",
      "- down\n",
      "- cat\n",
      "- follow\n",
      "- 'yes'\n",
      "train_ds:\n",
      "  manifest_filepath: null\n",
      "  sample_rate: 16000\n",
      "  labels:\n",
      "  - visual\n",
      "  - wow\n",
      "  - learn\n",
      "  - backward\n",
      "  - dog\n",
      "  - two\n",
      "  - left\n",
      "  - happy\n",
      "  - nine\n",
      "  - go\n",
      "  - up\n",
      "  - bed\n",
      "  - stop\n",
      "  - one\n",
      "  - zero\n",
      "  - tree\n",
      "  - seven\n",
      "  - 'on'\n",
      "  - four\n",
      "  - bird\n",
      "  - right\n",
      "  - eight\n",
      "  - 'no'\n",
      "  - six\n",
      "  - forward\n",
      "  - house\n",
      "  - marvin\n",
      "  - sheila\n",
      "  - five\n",
      "  - 'off'\n",
      "  - three\n",
      "  - down\n",
      "  - cat\n",
      "  - follow\n",
      "  - 'yes'\n",
      "  batch_size: 128\n",
      "  shuffle: true\n",
      "  augmentor:\n",
      "    shift:\n",
      "      prob: 1.0\n",
      "      min_shift_ms: -5.0\n",
      "      max_shift_ms: 5.0\n",
      "    white_noise:\n",
      "      prob: 1.0\n",
      "      min_level: -90\n",
      "      max_level: -46\n",
      "validation_ds:\n",
      "  manifest_filepath: null\n",
      "  sample_rate: 16000\n",
      "  labels:\n",
      "  - visual\n",
      "  - wow\n",
      "  - learn\n",
      "  - backward\n",
      "  - dog\n",
      "  - two\n",
      "  - left\n",
      "  - happy\n",
      "  - nine\n",
      "  - go\n",
      "  - up\n",
      "  - bed\n",
      "  - stop\n",
      "  - one\n",
      "  - zero\n",
      "  - tree\n",
      "  - seven\n",
      "  - 'on'\n",
      "  - four\n",
      "  - bird\n",
      "  - right\n",
      "  - eight\n",
      "  - 'no'\n",
      "  - six\n",
      "  - forward\n",
      "  - house\n",
      "  - marvin\n",
      "  - sheila\n",
      "  - five\n",
      "  - 'off'\n",
      "  - three\n",
      "  - down\n",
      "  - cat\n",
      "  - follow\n",
      "  - 'yes'\n",
      "  batch_size: 128\n",
      "  shuffle: false\n",
      "  val_loss_idx: 0\n",
      "test_ds:\n",
      "  manifest_filepath:\n",
      "  - /home/smajumdar/PycharmProjects/nemo-eval/nemo_eval/speech_commands/v2_validation_manifest.json\n",
      "  - /home/smajumdar/PycharmProjects/nemo-eval/nemo_eval/speech_commands/v2_test_manifest.json\n",
      "  sample_rate: 16000\n",
      "  labels:\n",
      "  - visual\n",
      "  - wow\n",
      "  - learn\n",
      "  - backward\n",
      "  - dog\n",
      "  - two\n",
      "  - left\n",
      "  - happy\n",
      "  - nine\n",
      "  - go\n",
      "  - up\n",
      "  - bed\n",
      "  - stop\n",
      "  - one\n",
      "  - zero\n",
      "  - tree\n",
      "  - seven\n",
      "  - 'on'\n",
      "  - four\n",
      "  - bird\n",
      "  - right\n",
      "  - eight\n",
      "  - 'no'\n",
      "  - six\n",
      "  - forward\n",
      "  - house\n",
      "  - marvin\n",
      "  - sheila\n",
      "  - five\n",
      "  - 'off'\n",
      "  - three\n",
      "  - down\n",
      "  - cat\n",
      "  - follow\n",
      "  - 'yes'\n",
      "  batch_size: 128\n",
      "  shuffle: false\n",
      "  test_loss_idx: 0\n",
      "preprocessor:\n",
      "  _target_: nemo.collections.asr.modules.AudioToMFCCPreprocessor\n",
      "  window_size: 0.025\n",
      "  window_stride: 0.01\n",
      "  window: hann\n",
      "  n_mels: 64\n",
      "  n_mfcc: 64\n",
      "  n_fft: 512\n",
      "spec_augment:\n",
      "  _target_: nemo.collections.asr.modules.SpectrogramAugmentation\n",
      "  freq_masks: 2\n",
      "  time_masks: 2\n",
      "  freq_width: 15\n",
      "  time_width: 25\n",
      "  rect_masks: 5\n",
      "  rect_time: 25\n",
      "  rect_freq: 15\n",
      "crop_or_pad_augment:\n",
      "  _target_: nemo.collections.asr.modules.CropOrPadSpectrogramAugmentation\n",
      "  audio_length: 128\n",
      "encoder:\n",
      "  _target_: nemo.collections.asr.modules.ConvASREncoder\n",
      "  feat_in: 64\n",
      "  activation: relu\n",
      "  conv_mask: true\n",
      "  jasper:\n",
      "  - filters: 128\n",
      "    repeat: 1\n",
      "    kernel:\n",
      "    - 11\n",
      "    stride:\n",
      "    - 1\n",
      "    dilation:\n",
      "    - 1\n",
      "    dropout: 0.0\n",
      "    residual: false\n",
      "    separable: true\n",
      "    kernel_size_factor: 1.0\n",
      "  - filters: 64\n",
      "    repeat: 1\n",
      "    kernel:\n",
      "    - 13\n",
      "    stride:\n",
      "    - 1\n",
      "    dilation:\n",
      "    - 1\n",
      "    dropout: 0.0\n",
      "    residual: true\n",
      "    separable: true\n",
      "    kernel_size_factor: 1.0\n",
      "  - filters: 64\n",
      "    repeat: 1\n",
      "    kernel:\n",
      "    - 15\n",
      "    stride:\n",
      "    - 1\n",
      "    dilation:\n",
      "    - 1\n",
      "    dropout: 0.0\n",
      "    residual: true\n",
      "    separable: true\n",
      "    kernel_size_factor: 1.0\n",
      "  - filters: 64\n",
      "    repeat: 1\n",
      "    kernel:\n",
      "    - 17\n",
      "    stride:\n",
      "    - 1\n",
      "    dilation:\n",
      "    - 1\n",
      "    dropout: 0.0\n",
      "    residual: true\n",
      "    separable: true\n",
      "    kernel_size_factor: 1.0\n",
      "  - filters: 128\n",
      "    repeat: 1\n",
      "    kernel:\n",
      "    - 29\n",
      "    stride:\n",
      "    - 1\n",
      "    dilation:\n",
      "    - 2\n",
      "    dropout: 0.0\n",
      "    residual: false\n",
      "    separable: true\n",
      "    kernel_size_factor: 1.0\n",
      "  - filters: 128\n",
      "    repeat: 1\n",
      "    kernel:\n",
      "    - 1\n",
      "    stride:\n",
      "    - 1\n",
      "    dilation:\n",
      "    - 1\n",
      "    dropout: 0.0\n",
      "    residual: false\n",
      "decoder:\n",
      "  _target_: nemo.collections.asr.modules.ConvASRDecoderClassification\n",
      "  feat_in: 128\n",
      "  num_classes: 35\n",
      "  return_logits: true\n",
      "  pooling_type: avg\n",
      "optim:\n",
      "  name: novograd\n",
      "  lr: 0.05\n",
      "  betas:\n",
      "  - 0.95\n",
      "  - 0.5\n",
      "  weight_decay: 0.001\n",
      "  sched:\n",
      "    name: PolynomialHoldDecayAnnealing\n",
      "    power: 2.0\n",
      "    warmup_ratio: 0.05\n",
      "    hold_ratio: 0.45\n",
      "    min_lr: 0.001\n",
      "    last_epoch: -1\n",
      "target: nemo.collections.asr.models.classification_models.EncDecClassificationModel\n",
      "\n"
     ]
    }
   ],
   "source": [
    "# Preserve a copy of the full config\n",
    "vad_cfg = copy.deepcopy(vad_model._cfg)\n",
    "mbn_cfg = copy.deepcopy(mbn_model._cfg)\n",
    "print(OmegaConf.to_yaml(mbn_cfg))"
   ]
  },
  {
   "cell_type": "markdown",
   "metadata": {},
   "source": [
    "## What classes can this model recognize?\n",
    "\n",
    "Before we begin inference on the actual audio stream, let's look at what are the classes this model was trained to recognize.  \n",
    "\n",
    "**MatchBoxNet model is not designed to recognize words out of vocabulary (OOV).**"
   ]
  },
  {
   "cell_type": "code",
   "execution_count": 7,
   "metadata": {},
   "outputs": [
    {
     "name": "stdout",
     "output_type": "stream",
     "text": [
      "visual     wow        learn      backward   dog        two        left       happy      nine       go         up         bed        stop       one        zero       tree       seven      on         four       bird       right      eight      no         six        forward    house      marvin     sheila     five       off        three      down       cat        follow     yes        "
     ]
    }
   ],
   "source": [
    "labels = mbn_cfg.labels\n",
    "for i in range(len(labels)):\n",
    "    print('%-10s' % (labels[i]), end=' ')"
   ]
  },
  {
   "cell_type": "markdown",
   "metadata": {},
   "source": [
    "## Setup preprocessor with these settings"
   ]
  },
  {
   "cell_type": "code",
   "execution_count": 8,
   "metadata": {},
   "outputs": [],
   "source": [
    "# Set model to inference mode\n",
    "mbn_model.eval();\n",
    "vad_model.eval();"
   ]
  },
  {
   "cell_type": "markdown",
   "metadata": {},
   "source": [
    "## Setting up data for Streaming Inference"
   ]
  },
  {
   "cell_type": "code",
   "execution_count": 9,
   "metadata": {},
   "outputs": [],
   "source": [
    "from nemo.core.classes import IterableDataset\n",
    "from nemo.core.neural_types import NeuralType, AudioSignal, LengthsType\n",
    "import torch\n",
    "from torch.utils.data import DataLoader"
   ]
  },
  {
   "cell_type": "code",
   "execution_count": 10,
   "metadata": {},
   "outputs": [],
   "source": [
    "# simple data layer to pass audio signal\n",
    "class AudioDataLayer(IterableDataset):\n",
    "    @property\n",
    "    def output_types(self):\n",
    "        return {\n",
    "            'audio_signal': NeuralType(('B', 'T'), AudioSignal(freq=self._sample_rate)),\n",
    "            'a_sig_length': NeuralType(tuple('B'), LengthsType()),\n",
    "        }\n",
    "\n",
    "    def __init__(self, sample_rate):\n",
    "        super().__init__()\n",
    "        self._sample_rate = sample_rate\n",
    "        self.output = True\n",
    "        \n",
    "    def __iter__(self):\n",
    "        return self\n",
    "    \n",
    "    def __next__(self):\n",
    "        if not self.output:\n",
    "            raise StopIteration\n",
    "        self.output = False\n",
    "        return torch.as_tensor(self.signal, dtype=torch.float32), \\\n",
    "               torch.as_tensor(self.signal_shape, dtype=torch.int64)\n",
    "        \n",
    "    def set_signal(self, signal):\n",
    "        self.signal = signal.astype(np.float32)/32768.\n",
    "        self.signal_shape = self.signal.size\n",
    "        self.output = True\n",
    "\n",
    "    def __len__(self):\n",
    "        return 1"
   ]
  },
  {
   "cell_type": "code",
   "execution_count": 11,
   "metadata": {},
   "outputs": [],
   "source": [
    "data_layer = AudioDataLayer(sample_rate=mbn_cfg.train_ds.sample_rate)\n",
    "data_loader = DataLoader(data_layer, batch_size=1, collate_fn=data_layer.collate_fn)"
   ]
  },
  {
   "cell_type": "markdown",
   "metadata": {},
   "source": [
    "## inference method for audio signal (single instance)"
   ]
  },
  {
   "cell_type": "code",
   "execution_count": 12,
   "metadata": {},
   "outputs": [],
   "source": [
    "def infer_signal(model, signal):\n",
    "    data_layer.set_signal(signal)\n",
    "    batch = next(iter(data_loader))\n",
    "    audio_signal, audio_signal_len = batch\n",
    "    audio_signal, audio_signal_len = audio_signal.to(model.device), audio_signal_len.to(model.device)\n",
    "    logits = model.forward(input_signal=audio_signal, input_signal_length=audio_signal_len)\n",
    "    return logits"
   ]
  },
  {
   "cell_type": "markdown",
   "metadata": {},
   "source": [
    "we don't include postprocessing techniques here. "
   ]
  },
  {
   "cell_type": "code",
   "execution_count": 13,
   "metadata": {},
   "outputs": [],
   "source": [
    "# class for streaming frame-based ASR\n",
    "# 1) use reset() method to reset FrameASR's state\n",
    "# 2) call transcribe(frame) to do ASR on\n",
    "#    contiguous signal's frames\n",
    "class FrameASR:\n",
    "    \n",
    "    def __init__(self, model_definition,\n",
    "                 frame_len=2, frame_overlap=2.5, \n",
    "                 offset=0):\n",
    "        '''\n",
    "        Args:\n",
    "          frame_len (seconds): Frame's duration\n",
    "          frame_overlap (seconds): Duration of overlaps before and after current frame.\n",
    "          offset: Number of symbols to drop for smooth streaming.\n",
    "        '''\n",
    "        self.task = model_definition['task']\n",
    "        self.vocab = list(model_definition['labels'])\n",
    "        \n",
    "        self.sr = model_definition['sample_rate']\n",
    "        self.frame_len = frame_len\n",
    "        self.n_frame_len = int(frame_len * self.sr)\n",
    "        self.frame_overlap = frame_overlap\n",
    "        self.n_frame_overlap = int(frame_overlap * self.sr)\n",
    "        timestep_duration = model_definition['AudioToMFCCPreprocessor']['window_stride']\n",
    "        for block in model_definition['JasperEncoder']['jasper']:\n",
    "            timestep_duration *= block['stride'][0] ** block['repeat']\n",
    "        self.buffer = np.zeros(shape=2*self.n_frame_overlap + self.n_frame_len,\n",
    "                               dtype=np.float32)\n",
    "        self.offset = offset\n",
    "        self.reset()\n",
    "        \n",
    "    @torch.no_grad()\n",
    "    def _decode(self, frame, offset=0):\n",
    "        assert len(frame)==self.n_frame_len\n",
    "        self.buffer[:-self.n_frame_len] = self.buffer[self.n_frame_len:]\n",
    "        self.buffer[-self.n_frame_len:] = frame\n",
    "\n",
    "        if self.task == 'mbn':\n",
    "            logits = infer_signal(mbn_model, self.buffer).to('cpu').numpy()[0]\n",
    "            decoded = self._mbn_greedy_decoder(logits, self.vocab)\n",
    "            \n",
    "        elif self.task == 'vad':\n",
    "            logits = infer_signal(vad_model, self.buffer).to('cpu').numpy()[0]\n",
    "            decoded = self._vad_greedy_decoder(logits, self.vocab)\n",
    "           \n",
    "        else:\n",
    "            raise(\"Task should either be of mbn or vad!\")\n",
    "            \n",
    "        return decoded[:len(decoded)-offset]\n",
    "    \n",
    "    def transcribe(self, frame=None,merge=False):\n",
    "        if frame is None:\n",
    "            frame = np.zeros(shape=self.n_frame_len, dtype=np.float32)\n",
    "        if len(frame) < self.n_frame_len:\n",
    "            frame = np.pad(frame, [0, self.n_frame_len - len(frame)], 'constant')\n",
    "        unmerged = self._decode(frame, self.offset)\n",
    "        return unmerged\n",
    "        \n",
    "    \n",
    "    def reset(self):\n",
    "        '''\n",
    "        Reset frame_history and decoder's state\n",
    "        '''\n",
    "        self.buffer=np.zeros(shape=self.buffer.shape, dtype=np.float32)\n",
    "        self.mbn_s = []\n",
    "        self.vad_s = []\n",
    "        \n",
    "    @staticmethod\n",
    "    def _mbn_greedy_decoder(logits, vocab):\n",
    "        mbn_s = []\n",
    "        if logits.shape[0]:\n",
    "            class_idx = np.argmax(logits)\n",
    "            class_label = vocab[class_idx]\n",
    "            mbn_s.append(class_label)         \n",
    "        return mbn_s\n",
    "    \n",
    "    \n",
    "    @staticmethod\n",
    "    def _vad_greedy_decoder(logits, vocab):\n",
    "        vad_s = []\n",
    "        if logits.shape[0]:\n",
    "            probs = torch.softmax(torch.as_tensor(logits), dim=-1)\n",
    "            probas, preds = torch.max(probs, dim=-1)\n",
    "            vad_s = [preds.item(), str(vocab[preds]), probs[0].item(), probs[1].item(), str(logits)]\n",
    "        return vad_s\n"
   ]
  },
  {
   "cell_type": "markdown",
   "metadata": {},
   "source": [
    "# Streaming Inference"
   ]
  },
  {
   "cell_type": "markdown",
   "metadata": {},
   "source": [
    "## offline inference\n",
    "Here we show an example of offline streaming inference. you can use your file or download the provided demo audio file. \n"
   ]
  },
  {
   "cell_type": "markdown",
   "metadata": {},
   "source": [
    "Streaming inference depends on a few factors, such as the frame length (STEP) and buffer size (WINDOW SIZE). Experiment with a few values to see their effects in the below cells."
   ]
  },
  {
   "cell_type": "code",
   "execution_count": 14,
   "metadata": {},
   "outputs": [],
   "source": [
    "STEP = 0.25\n",
    "WINDOW_SIZE = 1.28 # input segment length for NN we used for training"
   ]
  },
  {
   "cell_type": "code",
   "execution_count": 16,
   "metadata": {},
   "outputs": [],
   "source": [
    "import wave\n",
    "\n",
    "def offline_inference(wave_file, STEP = 0.25, WINDOW_SIZE = 0.31):\n",
    "    \"\"\"\n",
    "    Arg:\n",
    "        wav_file: wave file to be performed inference on.\n",
    "        STEP: infer every STEP seconds \n",
    "        WINDOW_SIZE : lenght of audio to be sent to NN.\n",
    "    \"\"\"\n",
    "    \n",
    "    FRAME_LEN = STEP \n",
    "    CHANNELS = 1 # number of audio channels (expect mono signal)\n",
    "    RATE = SAMPLE_RATE # sample rate, 16000 Hz\n",
    "   \n",
    "    CHUNK_SIZE = int(FRAME_LEN * SAMPLE_RATE)\n",
    "    \n",
    "    mbn = FrameASR(model_definition = {\n",
    "                       'task': 'mbn',\n",
    "                       'sample_rate': SAMPLE_RATE,\n",
    "                       'AudioToMFCCPreprocessor': mbn_cfg.preprocessor,\n",
    "                       'JasperEncoder': mbn_cfg.encoder,\n",
    "                       'labels': mbn_cfg.labels\n",
    "                   },\n",
    "                   frame_len=FRAME_LEN, frame_overlap = (WINDOW_SIZE - FRAME_LEN)/2,\n",
    "                   offset=0)\n",
    "\n",
    "    wf = wave.open(wave_file, 'rb')\n",
    "    data = wf.readframes(CHUNK_SIZE)\n",
    "\n",
    "    while len(data) > 0:\n",
    "\n",
    "        data = wf.readframes(CHUNK_SIZE)\n",
    "        signal = np.frombuffer(data, dtype=np.int16)\n",
    "        mbn_result = mbn.transcribe(signal)\n",
    "        \n",
    "        if len(mbn_result):\n",
    "            print(mbn_result)\n",
    "            \n",
    "    mbn.reset()"
   ]
  },
  {
   "cell_type": "code",
   "execution_count": 17,
   "metadata": {},
   "outputs": [],
   "source": [
    "demo_wave = 'SpeechCommands_demo.wav'\n",
    "if not os.path.exists(demo_wave):\n",
    "    !wget \"https://dldata-public.s3.us-east-2.amazonaws.com/SpeechCommands_demo.wav\""
   ]
  },
  {
   "cell_type": "code",
   "execution_count": 18,
   "metadata": {
    "scrolled": true
   },
   "outputs": [
    {
     "name": "stdout",
     "output_type": "stream",
     "text": [
      "1.2331065759637188\n"
     ]
    }
   ],
   "source": [
    "wave_file = demo_wave\n",
    "\n",
    "CHANNELS = 1\n",
    "audio, sample_rate = librosa.load(wave_file, sr=SAMPLE_RATE)\n",
    "dur = librosa.get_duration(audio)\n",
    "print(dur)"
   ]
  },
  {
   "cell_type": "code",
   "execution_count": 19,
   "metadata": {
    "scrolled": true
   },
   "outputs": [
    {
     "data": {
      "text/html": [
       "\n",
       "                <audio controls=\"controls\" >\n",
       "                    <source src=\"data:audio/wav;base64,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\" type=\"audio/wav\" />\n",
       "                    Your browser does not support the audio element.\n",
       "                </audio>\n",
       "              "
      ],
      "text/plain": [
       "<IPython.lib.display.Audio object>"
      ]
     },
     "execution_count": 19,
     "metadata": {},
     "output_type": "execute_result"
    }
   ],
   "source": [
    "ipd.Audio(audio, rate=sample_rate)"
   ]
  },
  {
   "cell_type": "code",
   "execution_count": 20,
   "metadata": {
    "scrolled": false
   },
   "outputs": [
    {
     "name": "stdout",
     "output_type": "stream",
     "text": [
      "['yes']\n",
      "['yes']\n",
      "['yes']\n",
      "['yes']\n",
      "['no']\n",
      "['no']\n",
      "['no']\n"
     ]
    }
   ],
   "source": [
    "# Ground-truth is Yes No\n",
    "offline_inference(wave_file, STEP, WINDOW_SIZE)"
   ]
  },
  {
   "cell_type": "markdown",
   "metadata": {},
   "source": [
    "## Online inference through microphone"
   ]
  },
  {
   "cell_type": "markdown",
   "metadata": {},
   "source": [
    "Please note MatchBoxNet and VAD model are not perfect for various microphone input and you might need to finetune on your input and play with different parameter. \\\n",
    "**We also recommend to use a headphone.**"
   ]
  },
  {
   "cell_type": "code",
   "execution_count": 21,
   "metadata": {},
   "outputs": [],
   "source": [
    "vad_threshold = 0.8 \n",
    "\n",
    "STEP = 0.1 \n",
    "WINDOW_SIZE = 0.15\n",
    "mbn_WINDOW_SIZE = 1\n",
    "\n",
    "CHANNELS = 1 \n",
    "RATE = SAMPLE_RATE\n",
    "FRAME_LEN = STEP # use step of vad inference as frame len\n",
    "\n",
    "CHUNK_SIZE = int(STEP * RATE)\n",
    "vad = FrameASR(model_definition = {\n",
    "                   'task': 'vad',\n",
    "                   'sample_rate': SAMPLE_RATE,\n",
    "                   'AudioToMFCCPreprocessor': vad_cfg.preprocessor,\n",
    "                   'JasperEncoder': vad_cfg.encoder,\n",
    "                   'labels': vad_cfg.labels\n",
    "               },\n",
    "               frame_len=FRAME_LEN, frame_overlap=(WINDOW_SIZE - FRAME_LEN) / 2, \n",
    "               offset=0)\n",
    "\n",
    "mbn = FrameASR(model_definition = {\n",
    "                       'task': 'mbn',\n",
    "                       'sample_rate': SAMPLE_RATE,\n",
    "                       'AudioToMFCCPreprocessor': mbn_cfg.preprocessor,\n",
    "                       'JasperEncoder': mbn_cfg.encoder,\n",
    "                       'labels': mbn_cfg.labels\n",
    "                   },\n",
    "                   frame_len=FRAME_LEN, frame_overlap = (mbn_WINDOW_SIZE-FRAME_LEN)/2,\n",
    "                   offset=0)"
   ]
  },
  {
   "cell_type": "code",
   "execution_count": 23,
   "metadata": {},
   "outputs": [
    {
     "name": "stdout",
     "output_type": "stream",
     "text": [
      "Available audio input devices:\n",
      "0 HDA Intel PCH: Generic Analog (hw:0,0)\n",
      "6 sysdefault\n",
      "12 pulse\n",
      "14 default\n",
      "Please type input device ID:\n",
      "14\n",
      "Listening...\n",
      "['up']['off']['left']['left']['left']['sheila']['two']['two']['two']['no']['no']['no']['no']['no']['no']['no']['no']['no']['no']['no']['no']['no']['no']['no']['no']['no']['no']['go']['no']['go']['go']['two']no-speech\n",
      "['eight']['eight']['nine']['no']['left']['left']['no']['no']['no']['no']['no']['no']['left']['left']['left']['left']['left']['left']['left']['left']['left']['left']['left']['left']['left']['left']['cat']['cat']['cat']['cat']['cat']['cat']['cat']['cat']['cat']['cat']['cat']['happy']['house']['happy']['happy']['happy']['happy']['happy']['eight']['happy']['eight']['tree']['tree']['tree']['tree']['tree']['tree']['tree']['tree']['bed']['bed']['tree']['tree']['tree']['tree']['tree']['cat']['tree']['cat']['cat']['marvin']['happy']['cat']['cat']['happy']['eight']['happy']['eight']['eight']['eight']['eight']['eight']['eight']['eight']['eight']['eight']['eight']['cat']['follow']['cat']['bed']['nine']['visual']['visual']['yes']['left']['yes']['yes']['left']['six']['six']['six']['sheila']['two']['two']['sheila']no-speech\n",
      "no-speech\n",
      "['yes']['six']['up']['up']['up']['up']['up']['up']['bed']['tree']['cat']['cat']['cat']['cat']['bed']['cat']['cat']['follow']['cat']['tree']['cat']['cat']['cat']['cat']['bed']['cat']['cat']['bed']['cat']['cat']['cat']['cat']['cat']['tree']['tree']['cat']['bed']['cat']['cat']['cat']['cat']['cat']['nine']['tree']['tree']['tree']['cat']['tree']['cat']['cat']['marvin']['tree']['cat']['cat']['bed']['follow']['tree']['cat']['tree']\n",
      "PyAudio stopped\n"
     ]
    },
    {
     "ename": "KeyboardInterrupt",
     "evalue": "",
     "output_type": "error",
     "traceback": [
      "\u001b[0;31m---------------------------------------------------------------------------\u001b[0m",
      "\u001b[0;31mKeyboardInterrupt\u001b[0m                         Traceback (most recent call last)",
      "\u001b[0;32m<ipython-input-23-9aaf1bea08c3>\u001b[0m in \u001b[0;36m<module>\u001b[0;34m\u001b[0m\n\u001b[1;32m     54\u001b[0m     \u001b[0;32mtry\u001b[0m\u001b[0;34m:\u001b[0m\u001b[0;34m\u001b[0m\u001b[0;34m\u001b[0m\u001b[0m\n\u001b[1;32m     55\u001b[0m         \u001b[0;32mwhile\u001b[0m \u001b[0mstream\u001b[0m\u001b[0;34m.\u001b[0m\u001b[0mis_active\u001b[0m\u001b[0;34m(\u001b[0m\u001b[0;34m)\u001b[0m\u001b[0;34m:\u001b[0m\u001b[0;34m\u001b[0m\u001b[0;34m\u001b[0m\u001b[0m\n\u001b[0;32m---> 56\u001b[0;31m             \u001b[0mtime\u001b[0m\u001b[0;34m.\u001b[0m\u001b[0msleep\u001b[0m\u001b[0;34m(\u001b[0m\u001b[0;36m0.1\u001b[0m\u001b[0;34m)\u001b[0m\u001b[0;34m\u001b[0m\u001b[0;34m\u001b[0m\u001b[0m\n\u001b[0m\u001b[1;32m     57\u001b[0m             \u001b[0msys\u001b[0m\u001b[0;34m.\u001b[0m\u001b[0mstdout\u001b[0m\u001b[0;34m.\u001b[0m\u001b[0mflush\u001b[0m\u001b[0;34m(\u001b[0m\u001b[0;34m)\u001b[0m\u001b[0;34m\u001b[0m\u001b[0;34m\u001b[0m\u001b[0m\n\u001b[1;32m     58\u001b[0m     \u001b[0;32mfinally\u001b[0m\u001b[0;34m:\u001b[0m\u001b[0;34m\u001b[0m\u001b[0;34m\u001b[0m\u001b[0m\n",
      "\u001b[0;31mKeyboardInterrupt\u001b[0m: "
     ]
    }
   ],
   "source": [
    "vad.reset()\n",
    "mbn.reset()\n",
    "\n",
    "import sys\n",
    "\n",
    "# Setup input device\n",
    "p = pa.PyAudio()\n",
    "print('Available audio input devices:')\n",
    "input_devices = []\n",
    "for i in range(p.get_device_count()):\n",
    "    dev = p.get_device_info_by_index(i)\n",
    "    if dev.get('maxInputChannels'):\n",
    "        input_devices.append(i)\n",
    "        print(i, dev.get('name'))\n",
    "\n",
    "if len(input_devices):\n",
    "    dev_idx = -2\n",
    "    while dev_idx not in input_devices:\n",
    "        print('Please type input device ID:')\n",
    "        dev_idx = int(input())\n",
    "\n",
    "    \n",
    "    def callback(in_data, frame_count, time_info, status):\n",
    "        \"\"\"\n",
    "        callback function for streaming audio and performing inference\n",
    "        \"\"\"\n",
    "        signal = np.frombuffer(in_data, dtype=np.int16)\n",
    "        vad_result = vad.transcribe(signal) \n",
    "        mbn_result = mbn.transcribe(signal) \n",
    "        \n",
    "        if len(vad_result):\n",
    "            # if speech prob is higher than threshold, we decide it contains speech utterance \n",
    "            # and activate MatchBoxNet \n",
    "            if vad_result[3] >= vad_threshold: \n",
    "                print(mbn_result, end='') # print mbn result when speech present\n",
    "            else:\n",
    "                print(\"no-speech\")\n",
    "        return (in_data, pa.paContinue)\n",
    "\n",
    "    # streaming\n",
    "    stream = p.open(format=pa.paInt16,\n",
    "                    channels=CHANNELS,\n",
    "                    rate=SAMPLE_RATE,\n",
    "                    input=True,\n",
    "                    input_device_index=dev_idx,\n",
    "                    stream_callback=callback,\n",
    "                    frames_per_buffer=CHUNK_SIZE)\n",
    "\n",
    "    \n",
    "    print('Listening...')\n",
    "    stream.start_stream()\n",
    "    \n",
    "    # Interrupt kernel and then speak for a few more words to exit the pyaudio loop !\n",
    "    try:\n",
    "        while stream.is_active():\n",
    "            time.sleep(0.1)\n",
    "            sys.stdout.flush()\n",
    "    finally:        \n",
    "        stream.stop_stream()\n",
    "        stream.close()\n",
    "        p.terminate()\n",
    "        print()\n",
    "        print(\"PyAudio stopped\")\n",
    "    \n",
    "else:\n",
    "    print('ERROR: No audio input device found.')"
   ]
  },
  {
   "cell_type": "code",
   "execution_count": null,
   "metadata": {},
   "outputs": [],
   "source": []
  }
 ],
 "metadata": {
  "kernelspec": {
   "display_name": "Python 3",
   "language": "python",
   "name": "python3"
  },
  "language_info": {
   "codemirror_mode": {
    "name": "ipython",
    "version": 3
   },
   "file_extension": ".py",
   "mimetype": "text/x-python",
   "name": "python",
   "nbconvert_exporter": "python",
   "pygments_lexer": "ipython3",
   "version": "3.6.6"
  }
 },
 "nbformat": 4,
 "nbformat_minor": 4
}
